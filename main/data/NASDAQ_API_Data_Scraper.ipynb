{
  "nbformat": 4,
  "nbformat_minor": 0,
  "metadata": {
    "colab": {
      "name": "NASDAQ API Data Scraper.ipynb",
      "provenance": [],
      "collapsed_sections": []
    },
    "kernelspec": {
      "name": "python3",
      "display_name": "Python 3"
    },
    "language_info": {
      "name": "python"
    }
  },
  "cells": [
    {
      "cell_type": "code",
      "execution_count": 1,
      "metadata": {
        "id": "by4NrN2TnIuE"
      },
      "outputs": [],
      "source": [
        "import requests\n",
        "import json\n",
        "import pandas as pd\n",
        "import os  "
      ]
    },
    {
      "cell_type": "code",
      "source": [
        "new_orleans = ['70112', '70113', '70114',\n",
        "               '70115', '70116', '70117',\n",
        "               '70118', '70119', '70121',\n",
        "               '70122', '70123', '70124',\n",
        "               '70125', '70126', '70127',\n",
        "               '70128', '70129', '70130', \n",
        "               '70131', '70139', '70141', \n",
        "               '70142', '70143', '70145', \n",
        "               '70146', '70148', '70150',\n",
        "               '70151', '70152', '70153', \n",
        "               '70154', '70156', '70157', \n",
        "               '70158', '70159', '70160',\n",
        "               '70161', '70162', '70163', \n",
        "               '70164', '70165', '70166', \n",
        "               '70167', '70170', '70172', \n",
        "               '70174', '70175', '70176', \n",
        "               '70177', '70178', '70179', \n",
        "               '70181', '70182', '70183', \n",
        "               '70184', '70185', '70186', \n",
        "               '70187', '70189', '70190', \n",
        "               '70195']"
      ],
      "metadata": {
        "id": "VoAkwkIz6JES"
      },
      "execution_count": 2,
      "outputs": []
    },
    {
      "cell_type": "code",
      "source": [
        "coffey_park = ['95401', '95402', '95403',\n",
        "               '95404', '95405', '95406',\n",
        "               '95407', '95409']"
      ],
      "metadata": {
        "id": "9eW74irS1-Ik"
      },
      "execution_count": 3,
      "outputs": []
    },
    {
      "cell_type": "code",
      "source": [
        "boulder = ['80301', '80302', '80303',\n",
        "           '80304', '80305', '80306',\n",
        "           '80307', '80309', '80310',\n",
        "           '80314']"
      ],
      "metadata": {
        "id": "9XoMafzz2dH3"
      },
      "execution_count": 4,
      "outputs": []
    },
    {
      "cell_type": "code",
      "source": [
        "moore_ok = ['73153', '73160', '73165', '73170']"
      ],
      "metadata": {
        "id": "M_7rkStt5KI5"
      },
      "execution_count": 5,
      "outputs": []
    },
    {
      "cell_type": "code",
      "source": [
        "buffalo = ['14201', '14202', '14203',\n",
        "           '14204', '14205', '14206',\n",
        "           '14207', '14208', '14209', '14210',\n",
        "           '14211', '14212', '14213',\n",
        "           '14214', '14215', '14216',\n",
        "           '14217', '14218', '14219', '14220',\n",
        "           '14221', '14222', '14223', '14224',\n",
        "           '14225', '14226', '14227',\n",
        "           '14228', '14231', '14233', '14240',\n",
        "           '14241', '14260', '14261', '14263',\n",
        "           '14264', '14265', '14267', '14269',\n",
        "           '14270', '14272', '14273', '14276',\n",
        "           '14280']"
      ],
      "metadata": {
        "id": "7V1psWpq7IM2"
      },
      "execution_count": 6,
      "outputs": []
    },
    {
      "cell_type": "code",
      "source": [
        "grand_isle = ['70358']"
      ],
      "metadata": {
        "id": "uF93iaM39OA7"
      },
      "execution_count": 7,
      "outputs": []
    },
    {
      "cell_type": "code",
      "source": [
        "all_cities = buffalo + grand_isle + moore_ok + boulder + coffey_park + new_orleans"
      ],
      "metadata": {
        "id": "r41_bjCTtyn0"
      },
      "execution_count": 18,
      "outputs": []
    },
    {
      "cell_type": "code",
      "source": [
        "API_KEY = \"pFtBv2h8dq17mVxz_F_V\"\n",
        "\n",
        "# create empty data frame\n",
        "parent_df = pd.DataFrame()"
      ],
      "metadata": {
        "id": "3ROUtauvnM8D"
      },
      "execution_count": 29,
      "outputs": []
    },
    {
      "cell_type": "code",
      "source": [
        "for zippy in all_cities:\n",
        "  zipCode = zippy #should be a string because if a zip code begins with 0, we would want to keep the entire number\n",
        "  \n",
        "  url = f\"https://data.nasdaq.com/api/v3/datatables/ZILLOW/DATA?indicator_id=ZSFH&region_id={zipCode}&api_key={API_KEY}\"\n",
        "  \n",
        "  #call the API\n",
        "  page = requests.get(url)\n",
        "  \n",
        "  #convert response to a python object\n",
        "  home_value_Data = json.loads(page.content)\n",
        "\n",
        "  #isolate the data\n",
        "  df = home_value_Data['datatable']['data']\n",
        "  \n",
        "  #convert to a DataFrame\n",
        "  df2 = pd.DataFrame(df)\n",
        "\n",
        "  #append it\n",
        "  if len(df2) != 0:\n",
        "    parent_df = pd.concat([parent_df, df2], axis = 0, ignore_index = True)\n"
      ],
      "metadata": {
        "id": "SdmD0Rim8YSX"
      },
      "execution_count": 30,
      "outputs": []
    },
    {
      "cell_type": "code",
      "source": [
        "parent_df.columns = ['indicator_id','region_id', 'date', 'value']\n",
        "parent_df.to_csv(\"single_family_homes_time_series.csv\", index = False)"
      ],
      "metadata": {
        "id": "RdHKHjPf9-Hk"
      },
      "execution_count": 32,
      "outputs": []
    },
    {
      "cell_type": "markdown",
      "source": [
        "Median Sales - Monthly SMOOTH"
      ],
      "metadata": {
        "id": "jLJj7j_GtLPw"
      }
    },
    {
      "cell_type": "code",
      "source": [
        "# create empty data frame\n",
        "parent_df = pd.DataFrame()\n",
        "\n",
        "for zippy in all_cities:\n",
        "  zipCode = zippy #should be a string because if a zip code begins with 0, we would want to keep the entire number\n",
        "  \n",
        "  url = f\"https://data.nasdaq.com/api/v3/datatables/ZILLOW/DATA?indicator_id=SSAM&region_id={zipCode}&api_key={API_KEY}\"\n",
        "  \n",
        "  #call the API\n",
        "  page = requests.get(url)\n",
        "  \n",
        "  #convert response to a python object\n",
        "  home_value_Data = json.loads(page.content)\n",
        "\n",
        "  #isolate the data\n",
        "  df = home_value_Data['datatable']['data']\n",
        "  \n",
        "  #convert to a DataFrame\n",
        "  df2 = pd.DataFrame(df)\n",
        "\n",
        "  #append it\n",
        "  if len(df2) != 0:\n",
        "    parent_df = pd.concat([parent_df, df2], axis = 0, ignore_index = True)\n"
      ],
      "metadata": {
        "id": "1TaEdVhhtKkC"
      },
      "execution_count": 22,
      "outputs": []
    },
    {
      "cell_type": "code",
      "source": [
        "parent_df.columns = ['indicator_id','region_id', 'date', 'value']\n",
        "parent_df.to_csv(\"median_sale_prices.csv\", index = False)"
      ],
      "metadata": {
        "id": "e_3_va1jtaJl"
      },
      "execution_count": 23,
      "outputs": []
    },
    {
      "cell_type": "markdown",
      "source": [
        "Median Sales - Rent, Smoothed, Seasonally-Adjusted"
      ],
      "metadata": {
        "id": "ADCOjatQvboH"
      }
    },
    {
      "cell_type": "code",
      "source": [
        "# create empty data frame\n",
        "parent_df = pd.DataFrame()\n",
        "\n",
        "for zippy in all_cities:\n",
        "  zipCode = zippy #should be a string because if a zip code begins with 0, we would want to keep the entire number\n",
        "  \n",
        "  url = f\"https://data.nasdaq.com/api/v3/datatables/ZILLOW/DATA?indicator_id=RSSA&region_id={zipCode}&api_key={API_KEY}\"\n",
        "  \n",
        "  #call the API\n",
        "  page = requests.get(url)\n",
        "  \n",
        "  #convert response to a python object\n",
        "  home_value_Data = json.loads(page.content)\n",
        "\n",
        "  #isolate the data\n",
        "  df = home_value_Data['datatable']['data']\n",
        "  \n",
        "  #convert to a DataFrame\n",
        "  df2 = pd.DataFrame(df)\n",
        "\n",
        "  #append it\n",
        "  if len(df2) != 0:\n",
        "    parent_df = pd.concat([parent_df, df2], axis = 0, ignore_index = True)\n"
      ],
      "metadata": {
        "id": "wQOBId2Gvb_r"
      },
      "execution_count": 40,
      "outputs": []
    },
    {
      "cell_type": "code",
      "source": [
        "parent_df"
      ],
      "metadata": {
        "colab": {
          "base_uri": "https://localhost:8080/",
          "height": 424
        },
        "id": "COd9Qs1x2J_8",
        "outputId": "35686760-03c8-4f15-f88b-5b48cdf3b675"
      },
      "execution_count": 41,
      "outputs": [
        {
          "output_type": "execute_result",
          "data": {
            "text/plain": [
              "        0      1           2       3\n",
              "0    RSSA  70358  2022-03-31  1128.0\n",
              "1    RSSA  70358  2022-02-28  1111.0\n",
              "2    RSSA  70358  2022-01-31  1095.0\n",
              "3    RSSA  70358  2021-12-31  1116.0\n",
              "4    RSSA  70358  2021-11-30  1099.0\n",
              "..    ...    ...         ...     ...\n",
              "185  RSSA  70127  2020-11-30  1024.0\n",
              "186  RSSA  70127  2020-10-31  1014.0\n",
              "187  RSSA  70127  2020-09-30  1005.0\n",
              "188  RSSA  70127  2020-08-31  1006.0\n",
              "189  RSSA  70127  2020-07-31  1018.0\n",
              "\n",
              "[190 rows x 4 columns]"
            ],
            "text/html": [
              "\n",
              "  <div id=\"df-396bd842-4fe2-4425-b368-b95daa0a8315\">\n",
              "    <div class=\"colab-df-container\">\n",
              "      <div>\n",
              "<style scoped>\n",
              "    .dataframe tbody tr th:only-of-type {\n",
              "        vertical-align: middle;\n",
              "    }\n",
              "\n",
              "    .dataframe tbody tr th {\n",
              "        vertical-align: top;\n",
              "    }\n",
              "\n",
              "    .dataframe thead th {\n",
              "        text-align: right;\n",
              "    }\n",
              "</style>\n",
              "<table border=\"1\" class=\"dataframe\">\n",
              "  <thead>\n",
              "    <tr style=\"text-align: right;\">\n",
              "      <th></th>\n",
              "      <th>0</th>\n",
              "      <th>1</th>\n",
              "      <th>2</th>\n",
              "      <th>3</th>\n",
              "    </tr>\n",
              "  </thead>\n",
              "  <tbody>\n",
              "    <tr>\n",
              "      <th>0</th>\n",
              "      <td>RSSA</td>\n",
              "      <td>70358</td>\n",
              "      <td>2022-03-31</td>\n",
              "      <td>1128.0</td>\n",
              "    </tr>\n",
              "    <tr>\n",
              "      <th>1</th>\n",
              "      <td>RSSA</td>\n",
              "      <td>70358</td>\n",
              "      <td>2022-02-28</td>\n",
              "      <td>1111.0</td>\n",
              "    </tr>\n",
              "    <tr>\n",
              "      <th>2</th>\n",
              "      <td>RSSA</td>\n",
              "      <td>70358</td>\n",
              "      <td>2022-01-31</td>\n",
              "      <td>1095.0</td>\n",
              "    </tr>\n",
              "    <tr>\n",
              "      <th>3</th>\n",
              "      <td>RSSA</td>\n",
              "      <td>70358</td>\n",
              "      <td>2021-12-31</td>\n",
              "      <td>1116.0</td>\n",
              "    </tr>\n",
              "    <tr>\n",
              "      <th>4</th>\n",
              "      <td>RSSA</td>\n",
              "      <td>70358</td>\n",
              "      <td>2021-11-30</td>\n",
              "      <td>1099.0</td>\n",
              "    </tr>\n",
              "    <tr>\n",
              "      <th>...</th>\n",
              "      <td>...</td>\n",
              "      <td>...</td>\n",
              "      <td>...</td>\n",
              "      <td>...</td>\n",
              "    </tr>\n",
              "    <tr>\n",
              "      <th>185</th>\n",
              "      <td>RSSA</td>\n",
              "      <td>70127</td>\n",
              "      <td>2020-11-30</td>\n",
              "      <td>1024.0</td>\n",
              "    </tr>\n",
              "    <tr>\n",
              "      <th>186</th>\n",
              "      <td>RSSA</td>\n",
              "      <td>70127</td>\n",
              "      <td>2020-10-31</td>\n",
              "      <td>1014.0</td>\n",
              "    </tr>\n",
              "    <tr>\n",
              "      <th>187</th>\n",
              "      <td>RSSA</td>\n",
              "      <td>70127</td>\n",
              "      <td>2020-09-30</td>\n",
              "      <td>1005.0</td>\n",
              "    </tr>\n",
              "    <tr>\n",
              "      <th>188</th>\n",
              "      <td>RSSA</td>\n",
              "      <td>70127</td>\n",
              "      <td>2020-08-31</td>\n",
              "      <td>1006.0</td>\n",
              "    </tr>\n",
              "    <tr>\n",
              "      <th>189</th>\n",
              "      <td>RSSA</td>\n",
              "      <td>70127</td>\n",
              "      <td>2020-07-31</td>\n",
              "      <td>1018.0</td>\n",
              "    </tr>\n",
              "  </tbody>\n",
              "</table>\n",
              "<p>190 rows × 4 columns</p>\n",
              "</div>\n",
              "      <button class=\"colab-df-convert\" onclick=\"convertToInteractive('df-396bd842-4fe2-4425-b368-b95daa0a8315')\"\n",
              "              title=\"Convert this dataframe to an interactive table.\"\n",
              "              style=\"display:none;\">\n",
              "        \n",
              "  <svg xmlns=\"http://www.w3.org/2000/svg\" height=\"24px\"viewBox=\"0 0 24 24\"\n",
              "       width=\"24px\">\n",
              "    <path d=\"M0 0h24v24H0V0z\" fill=\"none\"/>\n",
              "    <path d=\"M18.56 5.44l.94 2.06.94-2.06 2.06-.94-2.06-.94-.94-2.06-.94 2.06-2.06.94zm-11 1L8.5 8.5l.94-2.06 2.06-.94-2.06-.94L8.5 2.5l-.94 2.06-2.06.94zm10 10l.94 2.06.94-2.06 2.06-.94-2.06-.94-.94-2.06-.94 2.06-2.06.94z\"/><path d=\"M17.41 7.96l-1.37-1.37c-.4-.4-.92-.59-1.43-.59-.52 0-1.04.2-1.43.59L10.3 9.45l-7.72 7.72c-.78.78-.78 2.05 0 2.83L4 21.41c.39.39.9.59 1.41.59.51 0 1.02-.2 1.41-.59l7.78-7.78 2.81-2.81c.8-.78.8-2.07 0-2.86zM5.41 20L4 18.59l7.72-7.72 1.47 1.35L5.41 20z\"/>\n",
              "  </svg>\n",
              "      </button>\n",
              "      \n",
              "  <style>\n",
              "    .colab-df-container {\n",
              "      display:flex;\n",
              "      flex-wrap:wrap;\n",
              "      gap: 12px;\n",
              "    }\n",
              "\n",
              "    .colab-df-convert {\n",
              "      background-color: #E8F0FE;\n",
              "      border: none;\n",
              "      border-radius: 50%;\n",
              "      cursor: pointer;\n",
              "      display: none;\n",
              "      fill: #1967D2;\n",
              "      height: 32px;\n",
              "      padding: 0 0 0 0;\n",
              "      width: 32px;\n",
              "    }\n",
              "\n",
              "    .colab-df-convert:hover {\n",
              "      background-color: #E2EBFA;\n",
              "      box-shadow: 0px 1px 2px rgba(60, 64, 67, 0.3), 0px 1px 3px 1px rgba(60, 64, 67, 0.15);\n",
              "      fill: #174EA6;\n",
              "    }\n",
              "\n",
              "    [theme=dark] .colab-df-convert {\n",
              "      background-color: #3B4455;\n",
              "      fill: #D2E3FC;\n",
              "    }\n",
              "\n",
              "    [theme=dark] .colab-df-convert:hover {\n",
              "      background-color: #434B5C;\n",
              "      box-shadow: 0px 1px 3px 1px rgba(0, 0, 0, 0.15);\n",
              "      filter: drop-shadow(0px 1px 2px rgba(0, 0, 0, 0.3));\n",
              "      fill: #FFFFFF;\n",
              "    }\n",
              "  </style>\n",
              "\n",
              "      <script>\n",
              "        const buttonEl =\n",
              "          document.querySelector('#df-396bd842-4fe2-4425-b368-b95daa0a8315 button.colab-df-convert');\n",
              "        buttonEl.style.display =\n",
              "          google.colab.kernel.accessAllowed ? 'block' : 'none';\n",
              "\n",
              "        async function convertToInteractive(key) {\n",
              "          const element = document.querySelector('#df-396bd842-4fe2-4425-b368-b95daa0a8315');\n",
              "          const dataTable =\n",
              "            await google.colab.kernel.invokeFunction('convertToInteractive',\n",
              "                                                     [key], {});\n",
              "          if (!dataTable) return;\n",
              "\n",
              "          const docLinkHtml = 'Like what you see? Visit the ' +\n",
              "            '<a target=\"_blank\" href=https://colab.research.google.com/notebooks/data_table.ipynb>data table notebook</a>'\n",
              "            + ' to learn more about interactive tables.';\n",
              "          element.innerHTML = '';\n",
              "          dataTable['output_type'] = 'display_data';\n",
              "          await google.colab.output.renderOutput(dataTable, element);\n",
              "          const docLink = document.createElement('div');\n",
              "          docLink.innerHTML = docLinkHtml;\n",
              "          element.appendChild(docLink);\n",
              "        }\n",
              "      </script>\n",
              "    </div>\n",
              "  </div>\n",
              "  "
            ]
          },
          "metadata": {},
          "execution_count": 41
        }
      ]
    },
    {
      "cell_type": "code",
      "source": [
        "parent_df.columns = ['indicator_id','region_id', 'date', 'value']\n",
        "parent_df.to_csv(\"rental_prices.csv\", index = False)"
      ],
      "metadata": {
        "id": "iyJUBRlCvilI"
      },
      "execution_count": 42,
      "outputs": []
    }
  ]
}